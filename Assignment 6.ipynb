{
 "cells": [
  {
   "cell_type": "markdown",
   "id": "23b5e5bb-d021-468e-a05f-4c99d13ad3d3",
   "metadata": {},
   "source": [
    "Aniket Polkar\n",
    "122B1F104"
   ]
  },
  {
   "cell_type": "markdown",
   "id": "fd65b0fb-1844-44a7-8e45-e21f19d794dc",
   "metadata": {},
   "source": [
    "<b>Assignment No 6<b>"
   ]
  },
  {
   "cell_type": "code",
   "execution_count": 17,
   "id": "25a5528f-906f-477b-b0e4-1adc9a422a67",
   "metadata": {},
   "outputs": [],
   "source": [
    "# Import necessary libraries\n",
    "import pandas as pd\n",
    "import matplotlib.pyplot as plt\n",
    "import seaborn as sns"
   ]
  },
  {
   "cell_type": "code",
   "execution_count": 18,
   "id": "d396229e-924d-43b8-b054-30704ce306cc",
   "metadata": {},
   "outputs": [],
   "source": [
    "# Step 1: Load the Dataset\n",
    "heart_data = pd.read_csv('heart.csv')"
   ]
  },
  {
   "cell_type": "code",
   "execution_count": 19,
   "id": "065dcc44-034e-45e8-8ec6-854829b72cd0",
   "metadata": {},
   "outputs": [],
   "source": [
    "# Step 2: Data Cleaning\n",
    "# Replace 0 values in 'RestingBP' and 'Cholesterol' with NaN, as these values are not realistic\n",
    "heart_data['RestingBP'] = heart_data['RestingBP'].replace(0, pd.NA)\n",
    "heart_data['Cholesterol'] = heart_data['Cholesterol'].replace(0, pd.NA)"
   ]
  },
  {
   "cell_type": "code",
   "execution_count": 20,
   "id": "bdcc0570-7631-48a1-bdd8-9f910cf9d99a",
   "metadata": {},
   "outputs": [],
   "source": [
    "# Correct negative values in 'Oldpeak' by setting them to NaN\n",
    "heart_data.loc[heart_data['Oldpeak'] < 0, 'Oldpeak'] = pd.NA"
   ]
  },
  {
   "cell_type": "code",
   "execution_count": 21,
   "id": "637f3a34-1697-43bf-a20b-ccc7a447b9ef",
   "metadata": {},
   "outputs": [],
   "source": [
    "# Normalize categorical data formatting\n",
    "heart_data['Sex'] = heart_data['Sex'].str.title()\n",
    "heart_data['ChestPainType'] = heart_data['ChestPainType'].str.upper()\n",
    "heart_data['ExerciseAngina'] = heart_data['ExerciseAngina'].str.upper()\n"
   ]
  },
  {
   "cell_type": "code",
   "execution_count": 26,
   "id": "69716b84-d5bc-4d4e-ad2a-1da31fc9c70c",
   "metadata": {},
   "outputs": [],
   "source": [
    "# Step 3: Error Correction\n",
    "# Fill missing values in numerical columns with the column mean\n",
    "heart_data['RestingBP'] = heart_data['RestingBP'].fillna(heart_data['RestingBP'].mean())\n",
    "heart_data['Cholesterol'] = heart_data['Cholesterol'].fillna(heart_data['Cholesterol'].mean())\n",
    "heart_data['Oldpeak'] = heart_data['Oldpeak'].fillna(heart_data['Oldpeak'].mean())"
   ]
  },
  {
   "cell_type": "code",
   "execution_count": 27,
   "id": "9a5c0aee-c494-4424-8283-ff6a04efe52e",
   "metadata": {},
   "outputs": [],
   "source": [
    "# Infer data types to avoid the FutureWarning about downcasting\n",
    "heart_data = heart_data.infer_objects(copy=False)"
   ]
  },
  {
   "cell_type": "code",
   "execution_count": 28,
   "id": "94ea6d9e-c4e3-4fa2-b3e8-4078b7bf05e7",
   "metadata": {},
   "outputs": [],
   "source": [
    "# Optionally, if you want to ensure the correct data types explicitly, you can also convert the columns:\n",
    "heart_data['RestingBP'] = heart_data['RestingBP'].astype(float)\n",
    "heart_data['Cholesterol'] = heart_data['Cholesterol'].astype(float)\n",
    "heart_data['Oldpeak'] = heart_data['Oldpeak'].astype(float)"
   ]
  },
  {
   "cell_type": "code",
   "execution_count": 29,
   "id": "6f5da92b-f2cc-4402-93af-41bf77924b90",
   "metadata": {},
   "outputs": [],
   "source": [
    "\n",
    "# Infer data types to avoid future warnings\n",
    "heart_data = heart_data.infer_objects()"
   ]
  },
  {
   "cell_type": "code",
   "execution_count": 30,
   "id": "e083da89-41a0-4ae4-829e-94bdfa93ecb2",
   "metadata": {},
   "outputs": [],
   "source": [
    "# Convert numerical columns to appropriate types\n",
    "heart_data = heart_data.astype({'Age': 'int', 'RestingBP': 'float', 'Cholesterol': 'float'})\n"
   ]
  },
  {
   "cell_type": "code",
   "execution_count": 31,
   "id": "3ba98453-fe1c-423f-9bb0-6e6c61720fc6",
   "metadata": {},
   "outputs": [
    {
     "name": "stdout",
     "output_type": "stream",
     "text": [
      "Descriptive Statistics:\n",
      "              Age   RestingBP  Cholesterol   FastingBS       MaxHR  \\\n",
      "count  918.000000  918.000000   918.000000  918.000000  918.000000   \n",
      "mean    53.510893  132.540894   244.635389    0.233115  136.809368   \n",
      "std      9.432617   17.989932    53.318029    0.423046   25.460334   \n",
      "min     28.000000   80.000000    85.000000    0.000000   60.000000   \n",
      "25%     47.000000  120.000000   214.000000    0.000000  120.000000   \n",
      "50%     54.000000  130.000000   244.635389    0.000000  138.000000   \n",
      "75%     60.000000  140.000000   267.000000    0.000000  156.000000   \n",
      "max     77.000000  200.000000   603.000000    1.000000  202.000000   \n",
      "\n",
      "          Oldpeak  HeartDisease  \n",
      "count  918.000000    918.000000  \n",
      "mean     0.914254      0.553377  \n",
      "std      1.039496      0.497414  \n",
      "min      0.000000      0.000000  \n",
      "25%      0.000000      0.000000  \n",
      "50%      0.650000      1.000000  \n",
      "75%      1.500000      1.000000  \n",
      "max      6.200000      1.000000  \n"
     ]
    }
   ],
   "source": [
    "# Step 4: Data Analysis and Visualization\n",
    "# Display basic descriptive statistics\n",
    "print(\"Descriptive Statistics:\")\n",
    "print(heart_data.describe())"
   ]
  },
  {
   "cell_type": "code",
   "execution_count": null,
   "id": "e54d7a92-1658-4242-b302-c5d2c976c043",
   "metadata": {},
   "outputs": [],
   "source": []
  },
  {
   "cell_type": "code",
   "execution_count": null,
   "id": "cb31d26b-8165-4650-a347-bf91185ba35b",
   "metadata": {},
   "outputs": [],
   "source": []
  },
  {
   "cell_type": "code",
   "execution_count": null,
   "id": "b650cfc8-ae15-4f04-bcce-88fe6f24cfa8",
   "metadata": {},
   "outputs": [],
   "source": []
  }
 ],
 "metadata": {
  "kernelspec": {
   "display_name": "Python 3 (ipykernel)",
   "language": "python",
   "name": "python3"
  },
  "language_info": {
   "codemirror_mode": {
    "name": "ipython",
    "version": 3
   },
   "file_extension": ".py",
   "mimetype": "text/x-python",
   "name": "python",
   "nbconvert_exporter": "python",
   "pygments_lexer": "ipython3",
   "version": "3.12.5"
  }
 },
 "nbformat": 4,
 "nbformat_minor": 5
}
