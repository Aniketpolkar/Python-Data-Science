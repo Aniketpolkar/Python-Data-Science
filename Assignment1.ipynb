{
 "cells": [
  {
   "cell_type": "markdown",
   "id": "0be0d863-8496-4125-9d88-259227b73069",
   "metadata": {},
   "source": [
    "# FODS Assignment 1"
   ]
  },
  {
   "cell_type": "markdown",
   "id": "87a2bf4d-6558-4b23-8249-1cfe65701c58",
   "metadata": {},
   "source": [
    "READING AND WRITING DIFFERENT TYPES OF DATASETS: Reading different types of data sets such as .txt, .csv, .xml from Web and disk and writing in file in specific disk location. Get familiar with dataset"
   ]
  },
  {
   "cell_type": "markdown",
   "id": "326f8426-3511-401e-84ad-aa9c02976a56",
   "metadata": {},
   "source": [
    "Reading csv from url and system"
   ]
  },
  {
   "cell_type": "code",
   "execution_count": 2,
   "id": "16461d97-13fa-407d-bb23-0421c2c11ff1",
   "metadata": {},
   "outputs": [],
   "source": [
    "import pandas as  pd"
   ]
  },
  {
   "cell_type": "code",
   "execution_count": 3,
   "id": "c9b71b2b-346a-4dbe-89dd-82eaee11a0a9",
   "metadata": {},
   "outputs": [],
   "source": [
    "df_csv = pd.read_csv(\"iris.csv\")"
   ]
  },
  {
   "cell_type": "code",
   "execution_count": 4,
   "id": "6c1e5341-48f1-49a0-881e-527cfb02af98",
   "metadata": {},
   "outputs": [
    {
     "name": "stdout",
     "output_type": "stream",
     "text": [
      "     sepal_length  sepal_width  petal_length  petal_width    species\n",
      "0             5.1          3.5           1.4          0.2     setosa\n",
      "1             4.9          3.0           1.4          0.2     setosa\n",
      "2             4.7          3.2           1.3          0.2     setosa\n",
      "3             4.6          3.1           1.5          0.2     setosa\n",
      "4             5.0          3.6           1.4          0.2     setosa\n",
      "..            ...          ...           ...          ...        ...\n",
      "145           6.7          3.0           5.2          2.3  virginica\n",
      "146           6.3          2.5           5.0          1.9  virginica\n",
      "147           6.5          3.0           5.2          2.0  virginica\n",
      "148           6.2          3.4           5.4          2.3  virginica\n",
      "149           5.9          3.0           5.1          1.8  virginica\n",
      "\n",
      "[150 rows x 5 columns]\n"
     ]
    }
   ],
   "source": [
    "print(df_csv)"
   ]
  },
  {
   "cell_type": "code",
   "execution_count": 9,
   "id": "b9007c85-1de6-482f-9ab1-18e6fccac482",
   "metadata": {},
   "outputs": [
    {
     "name": "stdout",
     "output_type": "stream",
     "text": [
      "DataFrames Written to IRIS_Output.csv\n"
     ]
    }
   ],
   "source": [
    "df = pd.DataFrame({\n",
    "    'sepal_length': [5.1, 4.9, 4.7],\n",
    "    'sepal_width': [3.5, 3.0, 3.2],\n",
    "    'petal_length': [1.4, 1.4, 1.3],\n",
    "    'petal_width': [0.2, 0.2, 0.2],\n",
    "    'species': ['setosa', 'setosa', 'setosa']\n",
    "})\n",
    "#specify the file path \n",
    "file_path = \"IRIS_Output.csv\"\n",
    "\n",
    "#write dataframe to a CSV file\n",
    "df.to_csv(file_path,index=False)\n",
    "\n",
    "print(f\"DataFrames Written to {file_path}\")"
   ]
  },
  {
   "cell_type": "code",
   "execution_count": 10,
   "id": "8a35b341-0be6-4484-8f73-10399ac1c8a4",
   "metadata": {},
   "outputs": [
    {
     "name": "stdout",
     "output_type": "stream",
     "text": [
      "   sepal_length  sepal_width  petal_length  petal_width      species\n",
      "0           5.1          3.5           1.4          0.2  Iris-setosa\n",
      "1           4.9          3.0           1.4          0.2  Iris-setosa\n",
      "2           4.7          3.2           1.3          0.2  Iris-setosa\n",
      "3           4.6          3.1           1.5          0.2  Iris-setosa\n",
      "4           5.0          3.6           1.4          0.2  Iris-setosa\n"
     ]
    }
   ],
   "source": [
    "url = \"https://archive.ics.uci.edu/ml/machine-learning-databases/iris/iris.data\"\n",
    "df = pd.read_csv(url, header=None, names=['sepal_length', 'sepal_width', 'petal_length', 'petal_width', 'species'])\n",
    "print(df.head())"
   ]
  },
  {
   "cell_type": "code",
   "execution_count": 11,
   "id": "91e44939-df60-423b-915c-cb9f4988e8e5",
   "metadata": {},
   "outputs": [
    {
     "name": "stdout",
     "output_type": "stream",
     "text": [
      "   sepal_length  sepal_width  petal_length  petal_width      species\n",
      "0           5.1          3.5           1.4          0.2  Iris-setosa\n",
      "1           4.9          3.0           1.4          0.2  Iris-setosa\n",
      "2           4.7          3.2           1.3          0.2  Iris-setosa\n",
      "3           4.6          3.1           1.5          0.2  Iris-setosa\n",
      "4           5.0          3.6           1.4          0.2  Iris-setosa\n"
     ]
    }
   ],
   "source": [
    "print(df.head())"
   ]
  },
  {
   "cell_type": "markdown",
   "id": "e894d861-dedb-4abd-af4e-c40a96cdd3f8",
   "metadata": {},
   "source": [
    "Reading XML file"
   ]
  },
  {
   "cell_type": "code",
   "execution_count": 12,
   "id": "ff0e5949-c6bb-4aa4-8c9f-ebc987e0e332",
   "metadata": {},
   "outputs": [
    {
     "name": "stdout",
     "output_type": "stream",
     "text": [
      "<Element 'people' at 0x0000017A5BA57F60>\n"
     ]
    }
   ],
   "source": [
    "import xml.etree.ElementTree as ET\n",
    "\n",
    "# Load the XML file\n",
    "tree = ET.parse(\"ass1.xml\")  # Corrected the extension to .xml\n",
    "root = tree.getroot()\n",
    "\n",
    "# Print the root element\n",
    "print(root)\n"
   ]
  },
  {
   "cell_type": "code",
   "execution_count": 13,
   "id": "8baf93c7-92d4-4c30-b79b-c5d78702b144",
   "metadata": {},
   "outputs": [
    {
     "name": "stdout",
     "output_type": "stream",
     "text": [
      "Title: Thriller, Artist: Michael Jackson, Country: USA, Company: Epic, Price: 10.90, Year: 1982\n",
      "Title: The Dark Side of the Moon, Artist: Pink Floyd, Country: UK, Company: Harvest, Price: 15.99, Year: 1973\n",
      "Title: Back in Black, Artist: AC/DC, Country: Australia, Company: Atlantic, Price: 12.99, Year: 1980\n",
      "Title: The Beatles, Artist: The Beatles, Country: UK, Company: Apple, Price: 14.99, Year: 1968\n",
      "Title: Rumours, Artist: Fleetwood Mac, Country: USA, Company: Warner Bros., Price: 11.99, Year: 1977\n"
     ]
    }
   ],
   "source": [
    "import xml.etree.ElementTree as ET\n",
    "\n",
    "# Load the XML file\n",
    "tree = ET.parse(\"catlog.xml\")\n",
    "root = tree.getroot()\n",
    "\n",
    "# Iterate over all the CD elements and print the data\n",
    "for cd in root.findall('CD'):\n",
    "    title = cd.find('TITLE').text\n",
    "    artist = cd.find('ARTIST').text\n",
    "    country = cd.find('COUNTRY').text\n",
    "    company = cd.find('COMPANY').text\n",
    "    price = cd.find('PRICE').text\n",
    "    year = cd.find('YEAR').text\n",
    "\n",
    "    print(f\"Title: {title}, Artist: {artist}, Country: {country}, Company: {company}, Price: {price}, Year: {year}\")"
   ]
  },
  {
   "cell_type": "markdown",
   "id": "a267e838-bda3-4236-81eb-e1f9d6267472",
   "metadata": {},
   "source": [
    "Reading and writing in .txt files"
   ]
  },
  {
   "cell_type": "code",
   "execution_count": 17,
   "id": "579344d5-b2d2-4b47-9074-0312ac920a83",
   "metadata": {},
   "outputs": [
    {
     "name": "stdout",
     "output_type": "stream",
     "text": [
      "Name: Aniket, Age: 20\n",
      "Name: Tejas, Age: 21\n",
      "Name: Devashish, Age: 19\n",
      "Name: Aditya, Age: 22\n",
      "Name: Ojas, Age: 20\n",
      "Name: Rohit, Age: 21\n",
      "Name: Tejas, Age: 21\n",
      "Name: Devashish, Age: 19\n",
      "Name: Aditya, Age: 22\n"
     ]
    }
   ],
   "source": [
    "file_path = \"ass1.txt\"\n",
    "\n",
    "with open(file_path, \"r\") as file:\n",
    "    data = file.readlines()\n",
    "for line in data:\n",
    "    name, age = line.strip().split(',')\n",
    "    print(f\"Name: {name.strip()}, Age: {age.strip()}\")\n"
   ]
  },
  {
   "cell_type": "code",
   "execution_count": 18,
   "id": "c1cad461-cd22-4810-a8b0-c444c8d22cd6",
   "metadata": {},
   "outputs": [
    {
     "name": "stdout",
     "output_type": "stream",
     "text": [
      "\n",
      "Updated data:\n",
      "Name: Aniket, Age: 20\n",
      "Name: Tejas, Age: 21\n",
      "Name: Devashish, Age: 19\n",
      "Name: Aditya, Age: 22\n",
      "Name: Ojas, Age: 20\n",
      "Name: Rohit, Age: 21\n",
      "Name: Tejas, Age: 21\n",
      "Name: Devashish, Age: 19\n",
      "Name: Aditya, Age: 22\n",
      "Name: Omkar, Age: 23\n"
     ]
    }
   ],
   "source": [
    "new_entry = \"Omkar, 23\"\n",
    "data.append(f\"{new_entry}\\n\")\n",
    "\n",
    "with open(file_path, \"w\") as file:\n",
    "    file.writelines(data)\n",
    "\n",
    "print(\"\\nUpdated data:\")\n",
    "for line in data:\n",
    "    name, age = line.strip().split(',')\n",
    "    print(f\"Name: {name.strip()}, Age: {age.strip()}\")"
   ]
  },
  {
   "cell_type": "code",
   "execution_count": null,
   "id": "85eb848e-8e96-4ea1-a933-802df3335563",
   "metadata": {},
   "outputs": [],
   "source": []
  }
 ],
 "metadata": {
  "kernelspec": {
   "display_name": "Python 3 (ipykernel)",
   "language": "python",
   "name": "python3"
  },
  "language_info": {
   "codemirror_mode": {
    "name": "ipython",
    "version": 3
   },
   "file_extension": ".py",
   "mimetype": "text/x-python",
   "name": "python",
   "nbconvert_exporter": "python",
   "pygments_lexer": "ipython3",
   "version": "3.12.5"
  }
 },
 "nbformat": 4,
 "nbformat_minor": 5
}
